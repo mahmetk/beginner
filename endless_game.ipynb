{
 "cells": [
  {
   "cell_type": "code",
   "execution_count": 5,
   "id": "3c0cd1b4",
   "metadata": {},
   "outputs": [
    {
     "name": "stdout",
     "output_type": "stream",
     "text": [
      "Type your name: a\n",
      "Welcome a to this adventure!\n",
      "You are on a dirt road, it has come to an end and you can fo left or right.\n",
      " Which way would you like to go?right\n",
      "You come to a bridge, it look woobly, do you want to cross it or head back? (cross/back)cross\n",
      "You cross the bridge and meet a stranger. Do you talk to them? (yes/no)no\n",
      "You ignore the stranger and they are offended and you lose.\n",
      "Thank you a lot to play this game, a\n"
     ]
    }
   ],
   "source": [
    "name = input(\"Type your name: \")\n",
    "print(f\"Welcome {name} to this adventure!\")\n",
    "\n",
    "answer = input(\"You are on a dirt road, it has come to an end and you can fo left or right.\\n Which way would you like to go?\").lower()\n",
    "\n",
    "if answer == \"left\":\n",
    "    answer = input(\"You come to a river, you can walk around it or swim accross Type walk to walk around or swim to swim accross\")\n",
    "    \n",
    "    if answer == \"swim\":\n",
    "        print(\"You swam accross and were eaten by an alligator\")\n",
    "    elif answer == \"right\":\n",
    "        print(\"You walked for many miles, ran out of water and you lost the game.\")\n",
    "    else:\n",
    "        print(\"Not a valid option. You lost.\")\n",
    "    \n",
    "elif answer == \"right\":\n",
    "    answer = input(\"You come to a bridge, it look woobly, do you want to cross it or head back? (cross/back)\")\n",
    "    if answer == \"back\":\n",
    "        print(\"You go back and lose\")\n",
    "    elif answer == \"cross\":\n",
    "        answer = input(\"You cross the bridge and meet a stranger. Do you talk to them? (yes/no)\")\n",
    "        if answer == \"yes\":\n",
    "            print(\"You talk to the stanger and they give you gold. You WIN!\")\n",
    "        elif answer == \"no\":\n",
    "            print(\"You ignore the stranger and they are offended and you lose.\")\n",
    "        else:\n",
    "            print(\"Not a valid option. You lost.\") \n",
    "    else:\n",
    "        print(\"Not a valid option. You lost.\")\n",
    "else:\n",
    "    print(\"Not a valid option. You lost.\")\n",
    "\n",
    "print(f\"Thank you a lot to play this game, {name}\")"
   ]
  },
  {
   "cell_type": "code",
   "execution_count": null,
   "id": "aa5989d4",
   "metadata": {},
   "outputs": [],
   "source": []
  }
 ],
 "metadata": {
  "kernelspec": {
   "display_name": "Python 3 (ipykernel)",
   "language": "python",
   "name": "python3"
  },
  "language_info": {
   "codemirror_mode": {
    "name": "ipython",
    "version": 3
   },
   "file_extension": ".py",
   "mimetype": "text/x-python",
   "name": "python",
   "nbconvert_exporter": "python",
   "pygments_lexer": "ipython3",
   "version": "3.11.3"
  }
 },
 "nbformat": 4,
 "nbformat_minor": 5
}
