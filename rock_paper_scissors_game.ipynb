{
 "cells": [
  {
   "cell_type": "code",
   "execution_count": 3,
   "id": "e5d6be30",
   "metadata": {},
   "outputs": [
    {
     "name": "stdout",
     "output_type": "stream",
     "text": [
      "Type Rock/Paper/Scissors or Q to quit. paper\n",
      "Computer picked rock.\n",
      "You won!\n",
      "Type Rock/Paper/Scissors or Q to quit. rock\n",
      "Computer picked scissors.\n",
      "You won!\n",
      "Type Rock/Paper/Scissors or Q to quit. scissors\n",
      "Computer picked scissors.\n",
      "Even!\n",
      "Type Rock/Paper/Scissors or Q to quit. type\n",
      "Please type in Rock, Paper or Scissors only\n",
      "Type Rock/Paper/Scissors or Q to quit. RoCK\n",
      "Computer picked scissors.\n",
      "You won!\n",
      "Type Rock/Paper/Scissors or Q to quit. 1\n",
      "Please type in Rock, Paper or Scissors only\n",
      "Type Rock/Paper/Scissors or Q to quit. rock\n",
      "Computer picked paper.\n",
      "You lost!\n",
      "Type Rock/Paper/Scissors or Q to quit. q\n",
      "You won 3 times.\n",
      "The computer won 1 times.\n",
      "Ciao!\n"
     ]
    }
   ],
   "source": [
    "import random\n",
    "\n",
    "user_wins = 0\n",
    "computer_wins = 0\n",
    "\n",
    "options = [\"rock\", \"paper\", \"scissors\"]\n",
    "\n",
    "while True:\n",
    "    user_input = input(\"Type Rock/Paper/Scissors or Q to quit. \").lower()\n",
    "    if user_input == \"q\":\n",
    "        break\n",
    "        \n",
    "    # checking user type 3 of these.\n",
    "    if user_input not in options:\n",
    "        print(\"Please type in Rock, Paper or Scissors only\")\n",
    "        continue\n",
    "    \n",
    "    random_number = random.randint(0, 2)\n",
    "    # rock: 0, paper: 1, scissor: 2\n",
    "    computer_pick = options[random_number]\n",
    "    print(f\"Computer picked {computer_pick}.\")\n",
    "    \n",
    "    if user_input == \"rock\" and computer_pick == \"scissors\":\n",
    "        print(\"You won!\")\n",
    "        user_wins += 1\n",
    "    elif user_input == \"paper\" and computer_pick == \"rock\":\n",
    "        print(\"You won!\")\n",
    "        user_wins += 1\n",
    "    elif user_input == \"scissors\" and computer_pick == \"paper\":\n",
    "        print(\"You won!\")\n",
    "        user_wins += 1\n",
    "    elif user_input == computer_pick:\n",
    "        print(\"Even!\")\n",
    "    else:\n",
    "        print(\"You lost!\")\n",
    "        computer_wins += 1\n",
    "\n",
    "print(f\"You won {user_wins} times.\")\n",
    "print(f\"The computer won {computer_wins} times.\")\n",
    "print(\"Ciao!\")"
   ]
  },
  {
   "cell_type": "code",
   "execution_count": null,
   "id": "d12ef4aa",
   "metadata": {},
   "outputs": [],
   "source": []
  }
 ],
 "metadata": {
  "kernelspec": {
   "display_name": "Python 3 (ipykernel)",
   "language": "python",
   "name": "python3"
  },
  "language_info": {
   "codemirror_mode": {
    "name": "ipython",
    "version": 3
   },
   "file_extension": ".py",
   "mimetype": "text/x-python",
   "name": "python",
   "nbconvert_exporter": "python",
   "pygments_lexer": "ipython3",
   "version": "3.11.3"
  }
 },
 "nbformat": 4,
 "nbformat_minor": 5
}
